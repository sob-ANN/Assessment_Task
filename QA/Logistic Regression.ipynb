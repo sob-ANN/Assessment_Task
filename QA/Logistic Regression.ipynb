{
 "cells": [
  {
   "cell_type": "code",
   "execution_count": 1,
   "id": "d4318bcc",
   "metadata": {},
   "outputs": [],
   "source": [
    "\n",
    "import numpy as np\n",
    "from sklearn.model_selection import train_test_split\n",
    "from sklearn.linear_model import LogisticRegression\n",
    "from sklearn import datasets\n"
   ]
  },
  {
   "cell_type": "code",
   "execution_count": 32,
   "id": "48e6ad4a",
   "metadata": {},
   "outputs": [],
   "source": [
    "#load the iris dataset\n",
    "iris = datasets.load_iris()\n",
    "X = iris.data[:, :]  \n",
    "y = (iris.target != 0) * 1 \n",
    "\n",
    "# Splitting the data into training and testing sets\n",
    "X_train, X_test, y_train, y_test = train_test_split(X, y, test_size=0.2, random_state=42)\n"
   ]
  },
  {
   "cell_type": "code",
   "execution_count": 33,
   "id": "9a2ab70d",
   "metadata": {},
   "outputs": [
    {
     "name": "stdout",
     "output_type": "stream",
     "text": [
      "Accuracy: 1.0\n"
     ]
    }
   ],
   "source": [
    "#model formulation and training\n",
    "model = LogisticRegression()\n",
    "\n",
    "model.fit(X_train, y_train)\n",
    "\n",
    "predictions = model.predict(X_test)\n",
    "\n",
    "accuracy = np.mean(predictions == y_test)\n",
    "print(f\"Accuracy: {accuracy}\")\n"
   ]
  },
  {
   "cell_type": "code",
   "execution_count": 34,
   "id": "7efa21f2",
   "metadata": {},
   "outputs": [],
   "source": [
    "coefficients = model.coef_\n",
    "intercept = model.intercept_"
   ]
  },
  {
   "cell_type": "markdown",
   "id": "98cc0a77",
   "metadata": {},
   "source": [
    "**Weights of the first model are given as:**"
   ]
  },
  {
   "cell_type": "code",
   "execution_count": 35,
   "id": "2e5dde4e",
   "metadata": {},
   "outputs": [
    {
     "data": {
      "text/plain": [
       "array([[ 0.42775966, -0.88797565,  2.2135352 ,  0.91847975]])"
      ]
     },
     "execution_count": 35,
     "metadata": {},
     "output_type": "execute_result"
    }
   ],
   "source": [
    "coefficients"
   ]
  },
  {
   "cell_type": "code",
   "execution_count": 36,
   "id": "80afcf66",
   "metadata": {},
   "outputs": [
    {
     "data": {
      "text/plain": [
       "array([-6.24278552])"
      ]
     },
     "execution_count": 36,
     "metadata": {},
     "output_type": "execute_result"
    }
   ],
   "source": [
    "intercept"
   ]
  },
  {
   "cell_type": "markdown",
   "id": "c06f6854",
   "metadata": {},
   "source": [
    "**Duplicating the nth feature**"
   ]
  },
  {
   "cell_type": "code",
   "execution_count": 37,
   "id": "5a99b3a9",
   "metadata": {},
   "outputs": [],
   "source": [
    "X_ = np.concatenate((X, iris.data[:,-1].reshape(-1,1)), axis = 1)"
   ]
  },
  {
   "cell_type": "code",
   "execution_count": 38,
   "id": "b0821f1f",
   "metadata": {},
   "outputs": [
    {
     "name": "stdout",
     "output_type": "stream",
     "text": [
      "Accuracy: 1.0\n"
     ]
    }
   ],
   "source": [
    "X_train, X_test, y_train, y_test = train_test_split(X_, y, test_size=0.2, random_state=42)\n",
    "\n",
    "model = LogisticRegression()\n",
    "\n",
    "# Training the model on the training data\n",
    "model.fit(X_train, y_train)\n",
    "\n",
    "# Making predictions on the test set\n",
    "predictions = model.predict(X_test)\n",
    "\n",
    "# Evaluating the model\n",
    "accuracy = np.mean(predictions == y_test)\n",
    "print(f\"Accuracy: {accuracy}\")\n"
   ]
  },
  {
   "cell_type": "code",
   "execution_count": 39,
   "id": "9e4541de",
   "metadata": {},
   "outputs": [],
   "source": [
    "coefficients2 = model.coef_\n",
    "intercept2 = model.intercept_"
   ]
  },
  {
   "cell_type": "markdown",
   "id": "f087f5b3",
   "metadata": {},
   "source": [
    "**New model weights**"
   ]
  },
  {
   "cell_type": "code",
   "execution_count": 40,
   "id": "cd02b50c",
   "metadata": {},
   "outputs": [
    {
     "data": {
      "text/plain": [
       "array([[ 0.38859867, -0.83459664,  2.02838282,  0.82272319,  0.82272319]])"
      ]
     },
     "execution_count": 40,
     "metadata": {},
     "output_type": "execute_result"
    }
   ],
   "source": [
    "coefficients2"
   ]
  },
  {
   "cell_type": "code",
   "execution_count": 41,
   "id": "9c2293e7",
   "metadata": {},
   "outputs": [
    {
     "data": {
      "text/plain": [
       "array([-6.23141507])"
      ]
     },
     "execution_count": 41,
     "metadata": {},
     "output_type": "execute_result"
    }
   ],
   "source": [
    "intercept2 "
   ]
  },
  {
   "cell_type": "code",
   "execution_count": 49,
   "id": "d95ac8e4",
   "metadata": {},
   "outputs": [
    {
     "data": {
      "text/plain": [
       "array([-5.58584882])"
      ]
     },
     "execution_count": 49,
     "metadata": {},
     "output_type": "execute_result"
    }
   ],
   "source": [
    "np.mean(coefficients2) + intercept2"
   ]
  },
  {
   "cell_type": "code",
   "execution_count": 50,
   "id": "ad145ca2",
   "metadata": {},
   "outputs": [
    {
     "data": {
      "text/plain": [
       "array([-5.57483578])"
      ]
     },
     "execution_count": 50,
     "metadata": {},
     "output_type": "execute_result"
    }
   ],
   "source": [
    "np.mean(coefficients) + intercept"
   ]
  },
  {
   "cell_type": "markdown",
   "id": "ca6a9706",
   "metadata": {},
   "source": [
    "Since the newly added feature is corelated with the last feature, the model distributes the weights between different features so that the last two have similar weights (which is how it should be since they're the same values). Also, other weights get affected because of which. I find that the mean of all weights remains same before and after adding of this corelated feature."
   ]
  },
  {
   "cell_type": "code",
   "execution_count": null,
   "id": "a46afafc",
   "metadata": {},
   "outputs": [],
   "source": []
  }
 ],
 "metadata": {
  "kernelspec": {
   "display_name": "Python 3 (ipykernel)",
   "language": "python",
   "name": "python3"
  },
  "language_info": {
   "codemirror_mode": {
    "name": "ipython",
    "version": 3
   },
   "file_extension": ".py",
   "mimetype": "text/x-python",
   "name": "python",
   "nbconvert_exporter": "python",
   "pygments_lexer": "ipython3",
   "version": "3.11.4"
  }
 },
 "nbformat": 4,
 "nbformat_minor": 5
}
